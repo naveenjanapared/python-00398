{
  "nbformat": 4,
  "nbformat_minor": 0,
  "metadata": {
    "colab": {
      "name": "tuples,sets,dictionaries.ipynb",
      "provenance": [],
      "collapsed_sections": [],
      "authorship_tag": "ABX9TyM8xXfWuHQj5WngFpmpNUWg",
      "include_colab_link": true
    },
    "kernelspec": {
      "name": "python3",
      "display_name": "Python 3"
    },
    "language_info": {
      "name": "python"
    }
  },
  "cells": [
    {
      "cell_type": "markdown",
      "metadata": {
        "id": "view-in-github",
        "colab_type": "text"
      },
      "source": [
        "<a href=\"https://colab.research.google.com/github/naveenjanapared/python-00398/blob/main/tuples%2Csets%2Cdictionaries.ipynb\" target=\"_parent\"><img src=\"https://colab.research.google.com/assets/colab-badge.svg\" alt=\"Open In Colab\"/></a>"
      ]
    },
    {
      "cell_type": "code",
      "execution_count": null,
      "metadata": {
        "colab": {
          "base_uri": "https://localhost:8080/"
        },
        "id": "NJ8m1iacj98a",
        "outputId": "0dbdcbdb-09ee-4e74-c672-e80ffcb0ff6c"
      },
      "outputs": [
        {
          "output_type": "stream",
          "name": "stdout",
          "text": [
            "('apple', 'banana', 'orange')\n"
          ]
        }
      ],
      "source": [
        "program=(\"apple\",\"banana\",\"orange\")\n",
        "print(program)"
      ]
    },
    {
      "cell_type": "code",
      "source": [
        "bike=(\"rc\",\"re\",\"rc\")\n",
        "print(bike)"
      ],
      "metadata": {
        "colab": {
          "base_uri": "https://localhost:8080/"
        },
        "id": "tpX1IXJSnTGR",
        "outputId": "cf40e7fc-cb9c-4e36-8bf7-3d212d2d6a12"
      },
      "execution_count": null,
      "outputs": [
        {
          "output_type": "stream",
          "name": "stdout",
          "text": [
            "('rc', 're', 'rc')\n"
          ]
        }
      ]
    },
    {
      "cell_type": "code",
      "source": [
        "program=(\"apple\",\"orange\")\n",
        "print(len(program))"
      ],
      "metadata": {
        "colab": {
          "base_uri": "https://localhost:8080/"
        },
        "id": "xqvbolhgn3VI",
        "outputId": "84b9ee65-53d6-4244-af8b-2146e6b7e289"
      },
      "execution_count": null,
      "outputs": [
        {
          "output_type": "stream",
          "name": "stdout",
          "text": [
            "2\n"
          ]
        }
      ]
    },
    {
      "cell_type": "code",
      "source": [
        "program=(\"apple\",)\n",
        "print(type(program))\n"
      ],
      "metadata": {
        "colab": {
          "base_uri": "https://localhost:8080/"
        },
        "id": "z8RT-TCMnJ6y",
        "outputId": "83fa218f-0c1c-405e-fbc4-3868268df4ce"
      },
      "execution_count": null,
      "outputs": [
        {
          "output_type": "stream",
          "name": "stdout",
          "text": [
            "<class 'tuple'>\n"
          ]
        }
      ]
    },
    {
      "cell_type": "code",
      "source": [
        "string=(\"apple\",\"banana\",\"orange\")\n",
        "int=(1,5,7,9,3)\n",
        "booleans=(\"true\",\"true\",\"false\")\n",
        "\n",
        "print(string)\n",
        "print(int)\n",
        "print(booleans)"
      ],
      "metadata": {
        "colab": {
          "base_uri": "https://localhost:8080/"
        },
        "id": "Yy2yN8kyuWL1",
        "outputId": "16ff2579-21a5-4999-ce47-33a8beef7d39"
      },
      "execution_count": null,
      "outputs": [
        {
          "output_type": "stream",
          "name": "stdout",
          "text": [
            "('apple', 'banana', 'orange')\n",
            "(1, 5, 7, 9, 3)\n",
            "('true', 'true', 'false')\n"
          ]
        }
      ]
    },
    {
      "cell_type": "code",
      "source": [
        "dogs={\"lab\",\"husky\",\"shiba\"}\n",
        "dogs.add(\"bulldog\")\n",
        "for I in dogs:\n",
        "  print(I)\n"
      ],
      "metadata": {
        "colab": {
          "base_uri": "https://localhost:8080/"
        },
        "id": "Gp-vrTHIxkYj",
        "outputId": "0aecb8a8-691e-415c-f7b0-36ca259df951"
      },
      "execution_count": null,
      "outputs": [
        {
          "output_type": "stream",
          "name": "stdout",
          "text": [
            "lab\n",
            "bulldog\n",
            "shiba\n",
            "husky\n"
          ]
        }
      ]
    },
    {
      "cell_type": "code",
      "source": [
        "program=(\"apple\",\"banana\",\"cherry\")\n",
        "print(program[2])"
      ],
      "metadata": {
        "id": "_d-4Xr0CuWHs",
        "colab": {
          "base_uri": "https://localhost:8080/"
        },
        "outputId": "97031f23-4207-430d-f4c6-27947cf1774c"
      },
      "execution_count": null,
      "outputs": [
        {
          "output_type": "stream",
          "name": "stdout",
          "text": [
            "cherry\n"
          ]
        }
      ]
    },
    {
      "cell_type": "code",
      "source": [
        "program=(\"apple\",\"banana\",\"cherry\")\n",
        "print(program[-2])"
      ],
      "metadata": {
        "colab": {
          "base_uri": "https://localhost:8080/"
        },
        "id": "wPreBobMYit-",
        "outputId": "66843dd7-53a7-4b0d-faec-3b05ad983342"
      },
      "execution_count": null,
      "outputs": [
        {
          "output_type": "stream",
          "name": "stdout",
          "text": [
            "banana\n"
          ]
        }
      ]
    },
    {
      "cell_type": "code",
      "source": [
        "fruits=(\"apple\",\"banana\",\"cherry\",\"orange\",\"kiwi\",\"mango\")\n",
        "print(fruits[2:4])"
      ],
      "metadata": {
        "colab": {
          "base_uri": "https://localhost:8080/"
        },
        "id": "URDyNiOUYyn9",
        "outputId": "31bed0e0-d4d0-4606-8d7c-26bd1552859d"
      },
      "execution_count": null,
      "outputs": [
        {
          "output_type": "stream",
          "name": "stdout",
          "text": [
            "('cherry', 'orange')\n"
          ]
        }
      ]
    },
    {
      "cell_type": "code",
      "source": [
        "fruits=(\"apple\",\"banana\",\"cherry\",\"orange\",\"kiwi\",\"mango\")\n",
        "print(fruits[:4])"
      ],
      "metadata": {
        "colab": {
          "base_uri": "https://localhost:8080/"
        },
        "id": "JS67xf7OZY5O",
        "outputId": "85a22921-7b1f-4fb1-ef34-d8e9d6170741"
      },
      "execution_count": null,
      "outputs": [
        {
          "output_type": "stream",
          "name": "stdout",
          "text": [
            "('apple', 'banana', 'cherry', 'orange')\n"
          ]
        }
      ]
    },
    {
      "cell_type": "code",
      "source": [
        "fruits=(\"apple\",\"banana\",\"cherry\",\"orange\",\"kiwi\",\"mango\")\n",
        "print(fruits[2:])"
      ],
      "metadata": {
        "colab": {
          "base_uri": "https://localhost:8080/"
        },
        "id": "xnHLPUeRZrDO",
        "outputId": "2d5fe267-3fc0-4d81-fa06-4f97da22d623"
      },
      "execution_count": null,
      "outputs": [
        {
          "output_type": "stream",
          "name": "stdout",
          "text": [
            "('cherry', 'orange', 'kiwi', 'mango')\n"
          ]
        }
      ]
    },
    {
      "cell_type": "code",
      "source": [
        "fruits=(\"apple\",\"banana\",\"cherry\",\"orange\",\"kiwi\",\"mango\")\n",
        "print(fruits[-3:-1])"
      ],
      "metadata": {
        "colab": {
          "base_uri": "https://localhost:8080/"
        },
        "id": "tI0Tlo8LZyg-",
        "outputId": "5a7a0e90-46c1-476f-f662-040579dfbed7"
      },
      "execution_count": null,
      "outputs": [
        {
          "output_type": "stream",
          "name": "stdout",
          "text": [
            "('orange', 'kiwi')\n"
          ]
        }
      ]
    },
    {
      "cell_type": "code",
      "source": [
        "x = (\"apple\", \"banana\", \"cherry\")\n",
        "y = list(x)\n",
        "y[1] = \"kiwi\"\n",
        "x = tuple(y)\n",
        "\n",
        "print(x)\n"
      ],
      "metadata": {
        "colab": {
          "base_uri": "https://localhost:8080/"
        },
        "id": "CvTTxIRmaReO",
        "outputId": "d478638e-4070-41c3-9a75-b80fa9bce873"
      },
      "execution_count": null,
      "outputs": [
        {
          "output_type": "stream",
          "name": "stdout",
          "text": [
            "('apple', 'kiwi', 'cherry')\n"
          ]
        }
      ]
    },
    {
      "cell_type": "code",
      "source": [
        "fruits = (\"apple\", \"banana\", \"cherry\")\n",
        "y = list(fruits)\n",
        "y.append(\"orange\")\n",
        "fruits = tuple(y)\n",
        "\n",
        "print(fruits)\n"
      ],
      "metadata": {
        "colab": {
          "base_uri": "https://localhost:8080/"
        },
        "id": "gnqcR_43aaUG",
        "outputId": "4b1542bf-0fbb-478d-e160-533ea0e2488a"
      },
      "execution_count": null,
      "outputs": [
        {
          "output_type": "stream",
          "name": "stdout",
          "text": [
            "('apple', 'banana', 'cherry', 'orange')\n"
          ]
        }
      ]
    },
    {
      "cell_type": "code",
      "source": [
        "fruits = (\"apple\", \"banana\", \"cherry\")\n",
        "y = (\"orange\",)\n",
        "fruits += y\n",
        "\n",
        "print(fruits)\n",
        "\n",
        "\n"
      ],
      "metadata": {
        "colab": {
          "base_uri": "https://localhost:8080/"
        },
        "id": "zvoYX-Dpaqo-",
        "outputId": "8bf7bc3c-73ec-4342-8fdb-c5bdd809777b"
      },
      "execution_count": null,
      "outputs": [
        {
          "output_type": "stream",
          "name": "stdout",
          "text": [
            "('apple', 'banana', 'cherry', 'orange')\n"
          ]
        }
      ]
    },
    {
      "cell_type": "code",
      "source": [
        "fruits = (\"apple\", \"banana\", \"cherry\")\n",
        "\n",
        "(green, yellow, red) = fruits\n",
        "\n",
        "print(green)\n",
        "print(yellow)\n",
        "print(red)\n"
      ],
      "metadata": {
        "colab": {
          "base_uri": "https://localhost:8080/"
        },
        "id": "yHNcGI4ub7n9",
        "outputId": "e569a4a2-5e2f-4033-f202-4a77d4477365"
      },
      "execution_count": null,
      "outputs": [
        {
          "output_type": "stream",
          "name": "stdout",
          "text": [
            "apple\n",
            "banana\n",
            "cherry\n"
          ]
        }
      ]
    },
    {
      "cell_type": "code",
      "source": [
        "fruits = (\"apple\", \"mango\", \"papaya\", \"pineapple\", \"cherry\")\n",
        "\n",
        "(green, *tropic, red) = fruits\n",
        "\n",
        "print(green)\n",
        "print(tropic)\n",
        "print(red)\n"
      ],
      "metadata": {
        "colab": {
          "base_uri": "https://localhost:8080/"
        },
        "id": "r2zqsmjOcecO",
        "outputId": "b61b44d1-7fdd-4eae-9d37-afc60c818e01"
      },
      "execution_count": null,
      "outputs": [
        {
          "output_type": "stream",
          "name": "stdout",
          "text": [
            "apple\n",
            "['mango', 'papaya', 'pineapple']\n",
            "cherry\n"
          ]
        }
      ]
    },
    {
      "cell_type": "code",
      "source": [
        "thisset = {\"apple\", \"banana\", \"cherry\"}\n",
        "print(thisset)\n"
      ],
      "metadata": {
        "colab": {
          "base_uri": "https://localhost:8080/"
        },
        "id": "Q06dqd1gc_-N",
        "outputId": "84c9da34-5d98-40c3-9daf-acc0e712569b"
      },
      "execution_count": null,
      "outputs": [
        {
          "output_type": "stream",
          "name": "stdout",
          "text": [
            "{'banana', 'apple', 'cherry'}\n"
          ]
        }
      ]
    },
    {
      "cell_type": "code",
      "source": [
        "thisset = {\"apple\", \"banana\", \"cherry\", \"apple\"}\n",
        "\n",
        "print(thisset)"
      ],
      "metadata": {
        "colab": {
          "base_uri": "https://localhost:8080/"
        },
        "id": "06di2QuTdKZ9",
        "outputId": "14ff80d4-9a0f-4bd4-d240-755a564ec1e5"
      },
      "execution_count": null,
      "outputs": [
        {
          "output_type": "stream",
          "name": "stdout",
          "text": [
            "{'banana', 'apple', 'cherry'}\n"
          ]
        }
      ]
    },
    {
      "cell_type": "code",
      "source": [
        "thisset = {\"apple\", \"banana\", \"cherry\"}\n",
        "\n",
        "print(len(thisset))\n"
      ],
      "metadata": {
        "colab": {
          "base_uri": "https://localhost:8080/"
        },
        "id": "vAoHv4zzdMdl",
        "outputId": "fa0dce8c-66e5-4aff-da7d-7c37b92d2bb2"
      },
      "execution_count": null,
      "outputs": [
        {
          "output_type": "stream",
          "name": "stdout",
          "text": [
            "3\n"
          ]
        }
      ]
    },
    {
      "cell_type": "code",
      "source": [
        "thisdict = {\n",
        "  \"brand\": \"Ford\",\n",
        "  \"model\": \"Mustang\",\n",
        "  \"year\": 1964\n",
        "}\n",
        "print(thisdict)"
      ],
      "metadata": {
        "colab": {
          "base_uri": "https://localhost:8080/"
        },
        "id": "TFzwPynpd5sd",
        "outputId": "c89d93e8-a200-4595-94b9-3990a595a6c0"
      },
      "execution_count": null,
      "outputs": [
        {
          "output_type": "stream",
          "name": "stdout",
          "text": [
            "{'brand': 'Ford', 'model': 'Mustang', 'year': 1964}\n"
          ]
        }
      ]
    },
    {
      "cell_type": "code",
      "source": [
        "thisdict = {\n",
        "  \"brand\": \"Ford\",\n",
        "  \"model\": \"Mustang\",\n",
        "  \"year\": 1964\n",
        "}\n",
        "print(thisdict[\"brand\"])"
      ],
      "metadata": {
        "colab": {
          "base_uri": "https://localhost:8080/"
        },
        "id": "BIfcfDHaeC3t",
        "outputId": "d5e727f8-cf56-4ac0-9d41-6053834481ce"
      },
      "execution_count": null,
      "outputs": [
        {
          "output_type": "stream",
          "name": "stdout",
          "text": [
            "Ford\n"
          ]
        }
      ]
    },
    {
      "cell_type": "code",
      "source": [
        "thisdict = {\n",
        "  \"brand\": \"Ford\",\n",
        "  \"model\": \"Mustang\",\n",
        "  \"year\": 1964,\n",
        "  \"year\": 2020\n",
        "}\n",
        "print(thisdict)\n"
      ],
      "metadata": {
        "colab": {
          "base_uri": "https://localhost:8080/"
        },
        "id": "KrJO0eJikMn9",
        "outputId": "27357588-324a-47bc-b6f6-5c2f116b93fe"
      },
      "execution_count": null,
      "outputs": [
        {
          "output_type": "stream",
          "name": "stdout",
          "text": [
            "{'brand': 'Ford', 'model': 'Mustang', 'year': 2020}\n"
          ]
        }
      ]
    },
    {
      "cell_type": "code",
      "source": [
        "thisdict = {\n",
        "  \"brand\": \"Ford\",\n",
        "  \"model\": \"Mustang\",\n",
        "  \"year\": 1964,\n",
        "  \"year\": 2020\n",
        "}\n",
        "print(len(thisdict))\n"
      ],
      "metadata": {
        "colab": {
          "base_uri": "https://localhost:8080/"
        },
        "id": "tqecBu_kkwVW",
        "outputId": "bbc0380b-c09f-45bf-b5c2-98783919112d"
      },
      "execution_count": null,
      "outputs": [
        {
          "output_type": "stream",
          "name": "stdout",
          "text": [
            "3\n"
          ]
        }
      ]
    },
    {
      "cell_type": "code",
      "source": [
        "def my_function():\n",
        "  print(\"Hello from a function\")\n",
        "\n",
        "my_function()\n"
      ],
      "metadata": {
        "colab": {
          "base_uri": "https://localhost:8080/"
        },
        "id": "tY16Uyq1LwNk",
        "outputId": "df4f11c6-9826-4197-d28b-8fca815c5691"
      },
      "execution_count": null,
      "outputs": [
        {
          "output_type": "stream",
          "name": "stdout",
          "text": [
            "Hello from a function\n"
          ]
        }
      ]
    },
    {
      "cell_type": "code",
      "source": [
        "def my_function(fname):\n",
        "  print(fname + \" Refsnes\")\n",
        "\n",
        "my_function(\"Emil\")\n",
        "my_function(\"Tobias\")\n",
        "my_function(\"Linus\")\n"
      ],
      "metadata": {
        "colab": {
          "base_uri": "https://localhost:8080/"
        },
        "id": "tOpz0sojL0n0",
        "outputId": "0957958d-8b0d-48ba-f5b4-e5ebae2dfb6d"
      },
      "execution_count": null,
      "outputs": [
        {
          "output_type": "stream",
          "name": "stdout",
          "text": [
            "Emil Refsnes\n",
            "Tobias Refsnes\n",
            "Linus Refsnes\n"
          ]
        }
      ]
    },
    {
      "cell_type": "code",
      "source": [
        "def my_function(fname, lname):\n",
        "  print(fname + \" \" + lname)\n",
        "\n",
        "my_function(\"Emil\", \"Refsnes\")\n"
      ],
      "metadata": {
        "colab": {
          "base_uri": "https://localhost:8080/"
        },
        "id": "uJ2Km24tMQak",
        "outputId": "5b4afb0a-bfc3-44bd-de99-ec9a74d9bf63"
      },
      "execution_count": null,
      "outputs": [
        {
          "output_type": "stream",
          "name": "stdout",
          "text": [
            "Emil Refsnes\n"
          ]
        }
      ]
    },
    {
      "cell_type": "code",
      "source": [
        "def my_function(food):\n",
        "  for x in food:\n",
        "    print(x)\n",
        "\n",
        "fruits = [\"apple\", \"banana\", \"cherry\"]\n",
        "\n",
        "my_function(fruits)\n"
      ],
      "metadata": {
        "colab": {
          "base_uri": "https://localhost:8080/"
        },
        "id": "ELW-0J_7N5Lr",
        "outputId": "319b9ce4-f372-49aa-e393-788e023bbb3b"
      },
      "execution_count": null,
      "outputs": [
        {
          "output_type": "stream",
          "name": "stdout",
          "text": [
            "apple\n",
            "banana\n",
            "cherry\n"
          ]
        }
      ]
    },
    {
      "cell_type": "code",
      "source": [
        "a=int(input(\"enter number : \"))\n",
        "b=int(input(\"enter number:2 \"))\n",
        "add=a+b\n",
        "print(add)\n",
        "multiply=a*b\n",
        "print(multiply)\n",
        "sub=a-b\n",
        "print(sub)"
      ],
      "metadata": {
        "id": "34nhWECjO5WV",
        "colab": {
          "base_uri": "https://localhost:8080/"
        },
        "outputId": "fdea2522-d96e-447b-a4d0-c52c7db8faa2"
      },
      "execution_count": null,
      "outputs": [
        {
          "output_type": "stream",
          "name": "stdout",
          "text": [
            "enter number : 4\n",
            "enter number:2 2\n",
            "6\n",
            "8\n",
            "2\n"
          ]
        }
      ]
    },
    {
      "cell_type": "code",
      "source": [
        "import math\n",
        "a=math.ceil(4.1)\n",
        "print(a)\n",
        "b=math.pow(2,5)\n",
        "d=math.floor(5.6)\n",
        "e=math.sqrt(16)\n",
        "f=math.pi\n",
        "print(b)\n",
        "print(d)\n",
        "print(e)\n",
        "print(f)\n"
      ],
      "metadata": {
        "colab": {
          "base_uri": "https://localhost:8080/"
        },
        "id": "h4lXfai5V1Dq",
        "outputId": "8dced413-2b76-49e0-861b-08f1294f10ef"
      },
      "execution_count": null,
      "outputs": [
        {
          "output_type": "stream",
          "name": "stdout",
          "text": [
            "5\n",
            "32.0\n",
            "5\n",
            "4.0\n",
            "3.141592653589793\n"
          ]
        }
      ]
    }
  ]
}